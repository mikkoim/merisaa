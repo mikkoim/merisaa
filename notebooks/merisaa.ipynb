{
 "cells": [
  {
   "cell_type": "code",
   "execution_count": 1,
   "metadata": {},
   "outputs": [],
   "source": [
    "ASEMAT = [\"Rankki\",\n",
    "          \"Orrengrund\"\n",
    "]\n",
    "\n",
    "def parse_direction(deg):\n",
    "    suunnat = [\"pohjoinen\",\n",
    "               \"pohjoiskoillinen\",\n",
    "               \"koillinen\",\n",
    "               \"itäkoillinen\",\n",
    "               \"itä\",\n",
    "               \"itäkaakko\",\n",
    "               \"kaakko\",\n",
    "               \"eteläkaakko\",\n",
    "               \"etelä\",\n",
    "               \"etelälounas\",\n",
    "               \"lounas\",\n",
    "               \"länsilounas\",\n",
    "               \"länsi\",\n",
    "               \"länsiluode\",\n",
    "               \"luode\",\n",
    "               \"pohjoisluode\",\n",
    "               \"pohjoinen\"]\n",
    "    return suunnat[round(deg/22.5)]\n",
    "\n",
    "weather_symbol_map = {1: \"selkeää\",\n",
    "        2: \"puolipilvistä\",\n",
    "        21: \"heikkoja sadekuuroja\",\n",
    "        22: \"sadekuuroja\",\n",
    "        23: \"voimakkaita sadekuuroja\",\n",
    "        3: \"pilvistä\",\n",
    "        31: \"heikkoa vesisadetta\",\n",
    "        32: \"vesisadetta\",\n",
    "        33: \"voimakasta vesisadetta\",\n",
    "        41: \"heikkoja lumikuuroja\",\n",
    "        42: \"lumikuuroja\",\n",
    "        43: \"voimakkaita lumikuuroja\",\n",
    "        51: \"heikkoa lumisadetta\",\n",
    "        52: \"lumisadetta\",\n",
    "        53: \"voimakasta lumisadetta\",\n",
    "        61: \"ukkoskuuroja\",\n",
    "        62: \"voimakkaita ukkoskuuroja\",\n",
    "        63: \"ukkosta\",\n",
    "        64: \"voimakasta ukkosta\",\n",
    "        71: \"heikkoja räntäkuuroja\",\n",
    "        72: \"räntäkuuroja\",\n",
    "        73: \"voimakkaita räntäkuuroja\",\n",
    "        81: \"heikkoa räntäsadetta\",\n",
    "        82: \"räntäsadetta\",\n",
    "        83: \"voimakasta räntäsadetta\",\n",
    "        91: \"utua\",\n",
    "        92: \"sumua\"}\n",
    "\n",
    "\n",
    "def numero_tekstiksi(n):\n",
    "    \"\"\"Muuttaa kokonaisluvun välillä -9999 - 9999 tekstiksi\"\"\"\n",
    "    numero_map = {1: \"yksi\",\n",
    "                2: \"kaksi\",\n",
    "                3: \"kolme\",\n",
    "                4: \"neljä\",\n",
    "                5: \"viisi\",\n",
    "                6: \"kuusi\",\n",
    "                7: \"seitsemän\",\n",
    "                8: \"kahdeksan\",\n",
    "                9: \"yhdeksän\"}\n",
    "    if abs(n) >= 10000:\n",
    "        raise Exception(\"Vain luvut -9999 - 9999\")\n",
    "    if n == 0:\n",
    "        return \"nolla\"\n",
    "    if n < 0:\n",
    "        ret = \"miinus \"\n",
    "        n = abs(n)\n",
    "    else:\n",
    "        ret = \"\"\n",
    "    if n < 10:\n",
    "        return ret + numero_map[n]\n",
    "    if n == 10:\n",
    "        return ret + \"kymmenen\"\n",
    "    if (n > 10) and (n < 20):\n",
    "        r = n%10\n",
    "        return ret + numero_map[r] + \"toista\"\n",
    "    \n",
    "    tuhannet = n//1000\n",
    "    sadat = (n- 1000*tuhannet)//100\n",
    "    kymmenet = (n - 1000*tuhannet - 100*sadat)//10\n",
    "    yhdet = n%10\n",
    "\n",
    "    tuhat_s = sadat_s = kymmen_s = yhdet_s = \"\"\n",
    "    \n",
    "    if yhdet != 0:\n",
    "        yhdet_s = numero_map[yhdet]\n",
    "\n",
    "    if kymmenet != 0:\n",
    "        if kymmenet == 1:\n",
    "            kymmen_s = numero_tekstiksi(kymmenet*10 + yhdet)\n",
    "            yhdet_s = \"\"\n",
    "        else:\n",
    "            kymmen_s = numero_map[kymmenet] + \"kymmentä\"\n",
    "\n",
    "    if sadat != 0:\n",
    "        if sadat == 1:\n",
    "            sadat_s = \"sata\"\n",
    "        else:\n",
    "            sadat_s = numero_map[sadat] + \"sataa\"\n",
    "\n",
    "    if tuhannet != 0:\n",
    "        if tuhannet == 1:\n",
    "            tuhat_s = \"tuhat\"\n",
    "        else:\n",
    "            tuhat_s = numero_map[tuhannet] + \"tuhatta\"\n",
    "    \n",
    "    return ret + tuhat_s + sadat_s + kymmen_s + yhdet_s"
   ]
  },
  {
   "cell_type": "code",
   "execution_count": 2,
   "metadata": {},
   "outputs": [],
   "source": [
    "from fmiopendata.wfs import download_stored_query\n",
    "import datetime as dt\n",
    "\n",
    "\n",
    "def get_asema_obs(asema):\n",
    "      end_time = dt.datetime.utcnow()\n",
    "      start_time = end_time - dt.timedelta(days=1)\n",
    "\n",
    "      start_time = start_time.isoformat(timespec=\"seconds\") + \"Z\"\n",
    "      end_time = end_time.isoformat(timespec=\"seconds\") + \"Z\"\n",
    "\n",
    "      return download_stored_query(\"fmi::observations::weather::hourly::multipointcoverage\",\n",
    "                        args=[\"place=\" + asema,\n",
    "                              \"starttime=\" + start_time,\n",
    "                              \"endtime=\" + end_time])\n",
    "\n",
    "obs = get_asema_obs(\"Tankar\")"
   ]
  },
  {
   "cell_type": "code",
   "execution_count": 3,
   "metadata": {},
   "outputs": [
    {
     "name": "stdout",
     "output_type": "stream",
     "text": [
      "2023-10-07 13:00:00\n",
      "Kokkola Tankar\n",
      "Air temperature\n",
      "{'value': 6.0, 'units': 'degC'}\n",
      "Highest temperature\n",
      "{'value': 6.5, 'units': 'degC'}\n",
      "Lowest temperature\n",
      "{'value': 5.4, 'units': 'degC'}\n",
      "Relative humidity\n",
      "{'value': 77.0, 'units': '%'}\n",
      "Wind speed\n",
      "{'value': 18.0, 'units': 'm/s'}\n",
      "Maximum wind speed\n",
      "{'value': 19.1, 'units': 'm/s'}\n",
      "Minimum wind speed\n",
      "{'value': 17.0, 'units': 'm/s'}\n",
      "Wind direction\n",
      "{'value': 350.0, 'units': 'deg'}\n",
      "Precipitation amount\n",
      "{'value': nan, 'units': 'mm'}\n",
      "Maximum precipitation intensity\n",
      "{'value': nan, 'units': 'mm/h'}\n",
      "Air pressure\n",
      "{'value': 993.8, 'units': 'hPa'}\n",
      "Present weather (auto)\n",
      "{'value': 81.0, 'units': ''}\n"
     ]
    }
   ],
   "source": [
    "latest_step = max(obs.data.keys())\n",
    "place = list(obs.data[latest_step].keys())\n",
    "if len(place) == 1:\n",
    "    place = place[0]\n",
    "else:\n",
    "    pass\n",
    "data = obs.data[latest_step][place]\n",
    "print(latest_step)\n",
    "print(place)\n",
    "\n",
    "for key in data.keys():\n",
    "    print(key)\n",
    "    print(data[key])"
   ]
  },
  {
   "cell_type": "code",
   "execution_count": 4,
   "metadata": {},
   "outputs": [],
   "source": [
    "import numpy as np\n",
    "def get_asema(asema):\n",
    "    obs = get_asema_obs(asema)\n",
    "\n",
    "    latest_step = max(obs.data.keys())\n",
    "    place = list(obs.data[latest_step].keys())[0]\n",
    "    data = obs.data[latest_step][place]\n",
    "\n",
    "    temp = numero_tekstiksi(round(data[\"Air temperature\"][\"value\"]))\n",
    "    wind_dir = parse_direction(data[\"Wind direction\"][\"value\"])\n",
    "    wind_speed = numero_tekstiksi(round(data[\"Wind speed\"][\"value\"]))\n",
    "    # try:\n",
    "    #     weather = weather_symbol_map[data[\"Present weather (auto)\"][\"value\"]]\n",
    "    # except Exception:\n",
    "    #     weather = data[\"Present weather (auto)\"][\"value\"]\n",
    "    #     if np.isnan(weather):\n",
    "    #         weather = \"\"\n",
    "    return f\"{asema} {temp}, {wind_dir} {wind_speed}\""
   ]
  },
  {
   "cell_type": "code",
   "execution_count": 5,
   "metadata": {},
   "outputs": [
    {
     "data": {
      "text/plain": [
       "('Rajakari',)"
      ]
     },
     "execution_count": 5,
     "metadata": {},
     "output_type": "execute_result"
    }
   ],
   "source": [
    "\"Harmaja\",\n",
    "\"Emäsalo\",\n",
    "\"Itätoukki\",\n",
    "\"Bågaskär\",\n",
    "\"Russarö\",\n",
    "\"Vänö\",\n",
    "\"Utö\",\n",
    "\"Bogskär\",\n",
    "\"Rajakari\","
   ]
  },
  {
   "cell_type": "code",
   "execution_count": 6,
   "metadata": {},
   "outputs": [
    {
     "data": {
      "text/plain": [
       "'Haapasaari kuusi, pohjoisluode kaksitoista'"
      ]
     },
     "execution_count": 6,
     "metadata": {},
     "output_type": "execute_result"
    }
   ],
   "source": [
    "get_asema(\"Haapasaari\")"
   ]
  },
  {
   "cell_type": "code",
   "execution_count": 7,
   "metadata": {},
   "outputs": [],
   "source": [
    "from selenium import webdriver\n",
    "from selenium.webdriver.common.by import By\n",
    "from selenium.webdriver.support.wait import WebDriverWait\n",
    "from selenium.webdriver.support import expected_conditions as EC\n",
    "from pprint import pprint\n",
    "from bs4 import BeautifulSoup\n"
   ]
  },
  {
   "cell_type": "code",
   "execution_count": 171,
   "metadata": {},
   "outputs": [],
   "source": [
    "driver = webdriver.Chrome()"
   ]
  },
  {
   "cell_type": "code",
   "execution_count": 9,
   "metadata": {},
   "outputs": [],
   "source": [
    "driver.get(\"https://www.ilmatieteenlaitos.fi/rannikkosaa?station=101042\")"
   ]
  },
  {
   "cell_type": "code",
   "execution_count": 142,
   "metadata": {},
   "outputs": [],
   "source": [
    "# Ladataan rannikkoasemien koodit\n",
    "# html = driver.page_source\n",
    "# soup = BeautifulSoup(html)\n",
    "# long2value = {}\n",
    "# for asema_section in list(soup.select(\"select[aria-label^='Valitse havaintoasema, jonka havainnot näytetään alapuolella']\")[0]):\n",
    "#     asema = asema_section.get_text().lower()\n",
    "#     value = asema_section[\"value\"]\n",
    "#     long2value[asema] = value\n",
    "# long2value\n",
    "\n",
    "# with open(\"rannikkoasemat.txt\", \"w\") as f:\n",
    "#     for k,v in long2value.items():\n",
    "#         f.write(f\"{k}, {v}\\n\")"
   ]
  },
  {
   "cell_type": "code",
   "execution_count": 143,
   "metadata": {},
   "outputs": [
    {
     "data": {
      "text/plain": [
       "{'haapasaari': '101042',\n",
       " 'kotka rankki': '101030',\n",
       " 'orrengrund': '101039',\n",
       " 'emäsalo': '101023',\n",
       " 'kalbådagrund': '101022',\n",
       " 'itätoukki': '105392',\n",
       " 'harmaja': '100996',\n",
       " 'mäkiluoto': '100997',\n",
       " 'bågaskär': '100969',\n",
       " 'jussarö': '100965',\n",
       " 'hanko tulliniemi': '100946',\n",
       " 'russarö': '100932',\n",
       " 'vänö': '100945',\n",
       " 'utö': '100908',\n",
       " 'bogskär': '100921',\n",
       " 'rajakari': '100947',\n",
       " 'fagerholm': '100924',\n",
       " 'kumlinge': '100928',\n",
       " 'nyhamn': '100909',\n",
       " 'märket': '100919',\n",
       " 'isokari': '101059',\n",
       " 'kylmäpihlaja': '101061',\n",
       " 'tahkoluoto': '101267',\n",
       " 'sälgrund': '101256',\n",
       " 'bredskäret': '101479',\n",
       " 'strömmingsbådan': '101481',\n",
       " 'valassaaret': '101464',\n",
       " 'kallan': '101660',\n",
       " 'tankar': '101661',\n",
       " 'ulkokalla': '101673',\n",
       " 'nahkiainen': '101775',\n",
       " 'raahe': '101785',\n",
       " 'oulu vihreäsaari': '101794',\n",
       " 'marjaniemi': '101784',\n",
       " 'kemi ykkönen': '101783',\n",
       " 'ajos': '101846'}"
      ]
     },
     "execution_count": 143,
     "metadata": {},
     "output_type": "execute_result"
    }
   ],
   "source": [
    "with open(\"rannikkoasemat.txt\", \"r\") as f:\n",
    "    lines = f.readlines()\n",
    "short2value = {x.split(\",\")[0].strip(): x.split(\",\")[1].strip() for x in lines}\n",
    "short2value"
   ]
  },
  {
   "cell_type": "code",
   "execution_count": 151,
   "metadata": {},
   "outputs": [],
   "source": [
    "def load_page(driver, station_id):\n",
    "    driver.get(f\"https://www.ilmatieteenlaitos.fi/rannikkosaa?station={station_id}\")\n",
    "    wait = WebDriverWait(driver, timeout=5)\n",
    "    data_element = wait.until(EC.presence_of_element_located((By.CSS_SELECTOR, \"div[data-v-e11b1aae].row\")))\n",
    "\n",
    "def load_raw_data(driver):\n",
    "    \"\"\"Scrapeaa rannikkoaseman viimeisimmät havainnot ja palauttaa ne sellaisessa muodossa kuin ne ovat sivulla\"\"\"\n",
    "\n",
    "    # Lataa sivun html\n",
    "    html = driver.page_source\n",
    "    soup = BeautifulSoup(html)\n",
    "\n",
    "    # Hae havainnot\n",
    "    havainnot_section = soup.select(\"section[aria-label^='Viimeisimmät säähavainnot']\")\n",
    "    havainnot = list(havainnot_section[0])[0]\n",
    "\n",
    "    data_section = list(havainnot.children)[2]\n",
    "    aikaleima_raw = list(havainnot.children)[0].get_text()\n",
    "    data_raw = [x.get_text() for x in data_section.children]\n",
    "    return aikaleima_raw, data_raw\n"
   ]
  },
  {
   "cell_type": "code",
   "execution_count": 145,
   "metadata": {},
   "outputs": [],
   "source": [
    "def parse_aikaleima(aikaleima_raw):\n",
    "    \"\"\"Muuttaa verkkosivulta poimitun aikaleiman luettavaksi tekstiksi\n",
    "    esim 'Viimeisin säähavainto: La 7.10. 14:40  ' -> 'neljätoista neljäkymmentä'\n",
    "    \"\"\"\n",
    "    aika = aikaleima_raw.split(\" \")[4]\n",
    "    tunti, minuutti = aika.split(\":\")\n",
    "    return numero_tekstiksi(int(tunti)) + \" \" + numero_tekstiksi(int(minuutti))\n"
   ]
  },
  {
   "cell_type": "code",
   "execution_count": 156,
   "metadata": {},
   "outputs": [],
   "source": [
    "load_page(driver, short2value[\"sälgrund\"])\n",
    "aika, data = load_raw_data(driver)"
   ]
  },
  {
   "cell_type": "code",
   "execution_count": 163,
   "metadata": {},
   "outputs": [
    {
     "data": {
      "text/plain": [
       "'kuusi pohjoisluode neljätoista sadetta melkein pilvistä hyvä näkyvyys'"
      ]
     },
     "execution_count": 163,
     "metadata": {},
     "output_type": "execute_result"
    }
   ],
   "source": [
    "data_dict = create_data_dict(data)\n",
    "parse_data_dict(data_dict)"
   ]
  },
  {
   "cell_type": "code",
   "execution_count": 158,
   "metadata": {},
   "outputs": [],
   "source": [
    "def create_data_dict(data_raw):\n",
    "    data_vars = ['Lämpötila',\n",
    "            'Kastepiste',\n",
    "            'Kosteus',\n",
    "            'Tuuli',\n",
    "            'Tuulen suunta',\n",
    "            'Tuulen puuska',\n",
    "            'Näkyvyys',\n",
    "            'Pilvisyys',\n",
    "            'Paine',\n",
    "            'Sade']\n",
    "\n",
    "    data_dict = {}\n",
    "    for v in data_vars:\n",
    "        data_dict[v] = None\n",
    "        for data_row in data_raw:\n",
    "            if data_row.startswith(v):\n",
    "                data_dict[v] = data_row.replace(v, \"\").strip()\n",
    "    return data_dict"
   ]
  },
  {
   "cell_type": "code",
   "execution_count": 170,
   "metadata": {},
   "outputs": [
    {
     "ename": "NoSuchWindowException",
     "evalue": "Message: no such window: target window already closed\nfrom unknown error: web view not found\n  (Session info: chrome=117.0.5938.150)\nStacktrace:\n\tGetHandleVerifier [0x00007FF6C5D37D12+55474]\n\t(No symbol) [0x00007FF6C5CA77C2]\n\t(No symbol) [0x00007FF6C5B5E0EB]\n\t(No symbol) [0x00007FF6C5B3E528]\n\t(No symbol) [0x00007FF6C5BC3B77]\n\t(No symbol) [0x00007FF6C5BD75BF]\n\t(No symbol) [0x00007FF6C5BBEF33]\n\t(No symbol) [0x00007FF6C5B93D41]\n\t(No symbol) [0x00007FF6C5B94F84]\n\tGetHandleVerifier [0x00007FF6C609B762+3609346]\n\tGetHandleVerifier [0x00007FF6C60F1A80+3962400]\n\tGetHandleVerifier [0x00007FF6C60E9F0F+3930799]\n\tGetHandleVerifier [0x00007FF6C5DD3CA6+694342]\n\t(No symbol) [0x00007FF6C5CB2218]\n\t(No symbol) [0x00007FF6C5CAE484]\n\t(No symbol) [0x00007FF6C5CAE5B2]\n\t(No symbol) [0x00007FF6C5C9EE13]\n\tBaseThreadInitThunk [0x00007FFE89067344+20]\n\tRtlUserThreadStart [0x00007FFE892C26B1+33]\n",
     "output_type": "error",
     "traceback": [
      "\u001b[1;31m---------------------------------------------------------------------------\u001b[0m",
      "\u001b[1;31mNoSuchWindowException\u001b[0m                     Traceback (most recent call last)",
      "\u001b[1;32mc:\\code\\mikko\\projects\\merisaa\\merisaa.ipynb Cell 17\u001b[0m line \u001b[0;36m3\n\u001b[0;32m     <a href='vscode-notebook-cell:/c%3A/code/mikko/projects/merisaa/merisaa.ipynb#X44sZmlsZQ%3D%3D?line=32'>33</a>\u001b[0m     asema_str \u001b[39m=\u001b[39m \u001b[39mf\u001b[39m\u001b[39m\"\u001b[39m\u001b[39m{\u001b[39;00mlampotila_str\u001b[39m}\u001b[39;00m\u001b[39m \u001b[39m\u001b[39m{\u001b[39;00mtuulen_suunta_str\u001b[39m}\u001b[39;00m\u001b[39m \u001b[39m\u001b[39m{\u001b[39;00mtuuli_str\u001b[39m}\u001b[39;00m\u001b[39m \u001b[39m\u001b[39m{\u001b[39;00msade_str\u001b[39m}\u001b[39;00m\u001b[39m \u001b[39m\u001b[39m{\u001b[39;00mpilvisyys_str\u001b[39m}\u001b[39;00m\u001b[39m \u001b[39m\u001b[39m{\u001b[39;00mnakyvyys_str\u001b[39m}\u001b[39;00m\u001b[39m\"\u001b[39m\n\u001b[0;32m     <a href='vscode-notebook-cell:/c%3A/code/mikko/projects/merisaa/merisaa.ipynb#X44sZmlsZQ%3D%3D?line=33'>34</a>\u001b[0m     \u001b[39mreturn\u001b[39;00m asema_str\n\u001b[1;32m---> <a href='vscode-notebook-cell:/c%3A/code/mikko/projects/merisaa/merisaa.ipynb#X44sZmlsZQ%3D%3D?line=35'>36</a>\u001b[0m load_page(driver, short2value[\u001b[39m\"\u001b[39;49m\u001b[39mbågaskär\u001b[39;49m\u001b[39m\"\u001b[39;49m])\n",
      "\u001b[1;32mc:\\code\\mikko\\projects\\merisaa\\merisaa.ipynb Cell 17\u001b[0m line \u001b[0;36m2\n\u001b[0;32m      <a href='vscode-notebook-cell:/c%3A/code/mikko/projects/merisaa/merisaa.ipynb#X44sZmlsZQ%3D%3D?line=0'>1</a>\u001b[0m \u001b[39mdef\u001b[39;00m \u001b[39mload_page\u001b[39m(driver, station_id):\n\u001b[1;32m----> <a href='vscode-notebook-cell:/c%3A/code/mikko/projects/merisaa/merisaa.ipynb#X44sZmlsZQ%3D%3D?line=1'>2</a>\u001b[0m     driver\u001b[39m.\u001b[39;49mget(\u001b[39mf\u001b[39;49m\u001b[39m\"\u001b[39;49m\u001b[39mhttps://www.ilmatieteenlaitos.fi/rannikkosaa?station=\u001b[39;49m\u001b[39m{\u001b[39;49;00mstation_id\u001b[39m}\u001b[39;49;00m\u001b[39m\"\u001b[39;49m)\n\u001b[0;32m      <a href='vscode-notebook-cell:/c%3A/code/mikko/projects/merisaa/merisaa.ipynb#X44sZmlsZQ%3D%3D?line=2'>3</a>\u001b[0m     wait \u001b[39m=\u001b[39m WebDriverWait(driver, timeout\u001b[39m=\u001b[39m\u001b[39m5\u001b[39m)\n\u001b[0;32m      <a href='vscode-notebook-cell:/c%3A/code/mikko/projects/merisaa/merisaa.ipynb#X44sZmlsZQ%3D%3D?line=3'>4</a>\u001b[0m     data_element \u001b[39m=\u001b[39m wait\u001b[39m.\u001b[39muntil(EC\u001b[39m.\u001b[39mpresence_of_element_located((By\u001b[39m.\u001b[39mCSS_SELECTOR, \u001b[39m\"\u001b[39m\u001b[39mdiv[data-v-e11b1aae].row\u001b[39m\u001b[39m\"\u001b[39m)))\n",
      "File \u001b[1;32mc:\\Users\\mikko\\miniconda3\\envs\\merisaa\\lib\\site-packages\\selenium\\webdriver\\remote\\webdriver.py:353\u001b[0m, in \u001b[0;36mWebDriver.get\u001b[1;34m(self, url)\u001b[0m\n\u001b[0;32m    351\u001b[0m \u001b[39mdef\u001b[39;00m \u001b[39mget\u001b[39m(\u001b[39mself\u001b[39m, url: \u001b[39mstr\u001b[39m) \u001b[39m-\u001b[39m\u001b[39m>\u001b[39m \u001b[39mNone\u001b[39;00m:\n\u001b[0;32m    352\u001b[0m \u001b[39m    \u001b[39m\u001b[39m\"\"\"Loads a web page in the current browser session.\"\"\"\u001b[39;00m\n\u001b[1;32m--> 353\u001b[0m     \u001b[39mself\u001b[39;49m\u001b[39m.\u001b[39;49mexecute(Command\u001b[39m.\u001b[39;49mGET, {\u001b[39m\"\u001b[39;49m\u001b[39murl\u001b[39;49m\u001b[39m\"\u001b[39;49m: url})\n",
      "File \u001b[1;32mc:\\Users\\mikko\\miniconda3\\envs\\merisaa\\lib\\site-packages\\selenium\\webdriver\\remote\\webdriver.py:344\u001b[0m, in \u001b[0;36mWebDriver.execute\u001b[1;34m(self, driver_command, params)\u001b[0m\n\u001b[0;32m    342\u001b[0m response \u001b[39m=\u001b[39m \u001b[39mself\u001b[39m\u001b[39m.\u001b[39mcommand_executor\u001b[39m.\u001b[39mexecute(driver_command, params)\n\u001b[0;32m    343\u001b[0m \u001b[39mif\u001b[39;00m response:\n\u001b[1;32m--> 344\u001b[0m     \u001b[39mself\u001b[39;49m\u001b[39m.\u001b[39;49merror_handler\u001b[39m.\u001b[39;49mcheck_response(response)\n\u001b[0;32m    345\u001b[0m     response[\u001b[39m\"\u001b[39m\u001b[39mvalue\u001b[39m\u001b[39m\"\u001b[39m] \u001b[39m=\u001b[39m \u001b[39mself\u001b[39m\u001b[39m.\u001b[39m_unwrap_value(response\u001b[39m.\u001b[39mget(\u001b[39m\"\u001b[39m\u001b[39mvalue\u001b[39m\u001b[39m\"\u001b[39m, \u001b[39mNone\u001b[39;00m))\n\u001b[0;32m    346\u001b[0m     \u001b[39mreturn\u001b[39;00m response\n",
      "File \u001b[1;32mc:\\Users\\mikko\\miniconda3\\envs\\merisaa\\lib\\site-packages\\selenium\\webdriver\\remote\\errorhandler.py:229\u001b[0m, in \u001b[0;36mErrorHandler.check_response\u001b[1;34m(self, response)\u001b[0m\n\u001b[0;32m    227\u001b[0m         alert_text \u001b[39m=\u001b[39m value[\u001b[39m\"\u001b[39m\u001b[39malert\u001b[39m\u001b[39m\"\u001b[39m]\u001b[39m.\u001b[39mget(\u001b[39m\"\u001b[39m\u001b[39mtext\u001b[39m\u001b[39m\"\u001b[39m)\n\u001b[0;32m    228\u001b[0m     \u001b[39mraise\u001b[39;00m exception_class(message, screen, stacktrace, alert_text)  \u001b[39m# type: ignore[call-arg]  # mypy is not smart enough here\u001b[39;00m\n\u001b[1;32m--> 229\u001b[0m \u001b[39mraise\u001b[39;00m exception_class(message, screen, stacktrace)\n",
      "\u001b[1;31mNoSuchWindowException\u001b[0m: Message: no such window: target window already closed\nfrom unknown error: web view not found\n  (Session info: chrome=117.0.5938.150)\nStacktrace:\n\tGetHandleVerifier [0x00007FF6C5D37D12+55474]\n\t(No symbol) [0x00007FF6C5CA77C2]\n\t(No symbol) [0x00007FF6C5B5E0EB]\n\t(No symbol) [0x00007FF6C5B3E528]\n\t(No symbol) [0x00007FF6C5BC3B77]\n\t(No symbol) [0x00007FF6C5BD75BF]\n\t(No symbol) [0x00007FF6C5BBEF33]\n\t(No symbol) [0x00007FF6C5B93D41]\n\t(No symbol) [0x00007FF6C5B94F84]\n\tGetHandleVerifier [0x00007FF6C609B762+3609346]\n\tGetHandleVerifier [0x00007FF6C60F1A80+3962400]\n\tGetHandleVerifier [0x00007FF6C60E9F0F+3930799]\n\tGetHandleVerifier [0x00007FF6C5DD3CA6+694342]\n\t(No symbol) [0x00007FF6C5CB2218]\n\t(No symbol) [0x00007FF6C5CAE484]\n\t(No symbol) [0x00007FF6C5CAE5B2]\n\t(No symbol) [0x00007FF6C5C9EE13]\n\tBaseThreadInitThunk [0x00007FFE89067344+20]\n\tRtlUserThreadStart [0x00007FFE892C26B1+33]\n"
     ]
    }
   ],
   "source": [
    "import re\n",
    "def parse_data_dict(data_dict):\n",
    "    lampotila = round(float(data_dict[\"Lämpötila\"].split(\" \")[0].replace(\",\", \".\")))\n",
    "    lampotila_str = numero_tekstiksi(lampotila)\n",
    "\n",
    "    tuuli = int(data_dict[\"Tuuli\"].split(\" \")[0])\n",
    "    tuuli_str = numero_tekstiksi(tuuli)\n",
    "\n",
    "    tuulen_suunta = int(re.search(r\"\\((\\d+)\\°\\)\", data_dict[\"Tuulen suunta\"]).group(1))\n",
    "    tuulen_suunta_str = parse_direction(tuulen_suunta)\n",
    "\n",
    "    if data_dict[\"Sade\"] is None:\n",
    "        sade_str = \"\"\n",
    "    else:\n",
    "        sade_str = \"sadetta\"\n",
    "\n",
    "    if data_dict[\"Pilvisyys\"] is None:\n",
    "        pilvisyys_str = \"\"\n",
    "    else:\n",
    "        pilvisyys_str = \" \".join(data_dict[\"Pilvisyys\"].split(\" \")[:-1]).lower()\n",
    "\n",
    "    if data_dict[\"Näkyvyys\"] is None:\n",
    "        nakyvyys_str = \"\"\n",
    "    else:\n",
    "        nakyvyys = data_dict[\"Näkyvyys\"].split(\" \")[0]\n",
    "        if nakyvyys == \"yli\":\n",
    "            nakyvyys_str = \"hyvä näkyvyys\"\n",
    "        else:\n",
    "            nakyvyys = round(float(nakyvyys.replace(\",\", \".\")))\n",
    "            nakyvyys_str = numero_tekstiksi(nakyvyys)\n",
    "        \n",
    "\n",
    "    asema_str = f\"{lampotila_str} {tuulen_suunta_str} {tuuli_str} {sade_str} {pilvisyys_str} {nakyvyys_str}\"\n",
    "    return asema_str\n",
    "\n",
    "load_page(driver, short2value[\"bågaskär\"])"
   ]
  },
  {
   "cell_type": "code",
   "execution_count": 152,
   "metadata": {},
   "outputs": [
    {
     "data": {
      "application/vnd.jupyter.widget-view+json": {
       "model_id": "34d3c00a208845f7af20503bda499090",
       "version_major": 2,
       "version_minor": 0
      },
      "text/plain": [
       "  0%|          | 0/36 [00:00<?, ?it/s]"
      ]
     },
     "metadata": {},
     "output_type": "display_data"
    },
    {
     "name": "stdout",
     "output_type": "stream",
     "text": [
      "Sää rannikkoasemilla tänään kello seitsemäntoista viisikymmentä\n",
      "haapasaari: viisi luode yhdeksäntoista pilvistä kymmenen\n",
      "kotka rankki: ei havaintoja\n",
      "orrengrund: kuusi luode seitsemäntoista melkein pilvistä hyvä näkyvyys\n",
      "emäsalo: kuusi luode kuusitoista  \n",
      "kalbådagrund: kahdeksan luode kaksikymmentäkaksi  \n",
      "itätoukki: kahdeksan luode kuusitoista  \n",
      "harmaja: seitsemän luode seitsemäntoista melkein pilvistä \n",
      "mäkiluoto: seitsemän luode kaksikymmentäkaksi  \n",
      "bågaskär: seitsemän pohjoisluode yksitoista melkein pilvistä hyvä näkyvyys\n",
      "jussarö: kahdeksan luode yksitoista melkein selkeää hyvä näkyvyys\n",
      "hanko tulliniemi: seitsemän luode kaksikymmentä  \n",
      "russarö: kahdeksan luode kaksikymmentä  \n",
      "vänö: kahdeksan pohjoisluode seitsemäntoista  \n",
      "utö: kahdeksan luode seitsemäntoista puolipilvistä kolmekymmentä\n",
      "bogskär: kahdeksan pohjoisluode kaksikymmentäneljä  \n",
      "rajakari: kuusi luode kahdeksantoista  \n",
      "fagerholm: kahdeksan luode seitsemäntoista  \n",
      "kumlinge: kuusi pohjoisluode seitsemäntoista melkein pilvistä kahdeksantoista\n",
      "nyhamn: seitsemän pohjoisluode yhdeksäntoista puolipilvistä kuusitoista\n",
      "märket: kahdeksan luode kaksikymmentä  \n",
      "isokari: seitsemän luode kaksikymmentäyksi puolipilvistä kuusitoista\n",
      "kylmäpihlaja: kahdeksan pohjoisluode kaksikymmentäneljä puolipilvistä yksitoista\n",
      "tahkoluoto: kahdeksan pohjoisluode kaksikymmentä melkein pilvistä kahdeksan\n",
      "sälgrund: kuusi pohjoisluode neljätoista melkein pilvistä hyvä näkyvyys\n",
      "bredskäret: kuusi pohjoisluode kaksitoista  \n",
      "strömmingsbådan: kuusi pohjoisluode kuusitoista  \n",
      "valassaaret: viisi pohjoisluode viisitoista  \n",
      "kallan: kuusi pohjoisluode yhdeksäntoista  \n",
      "tankar: kuusi pohjoinen kahdeksantoista melkein pilvistä kolmetoista\n",
      "ulkokalla: kuusi pohjoisluode kuusitoista  \n",
      "nahkiainen: neljä pohjoinen seitsemäntoista  \n",
      "raahe: neljä pohjoinen seitsemäntoista  kahdeksan\n",
      "oulu vihreäsaari: kaksi pohjoinen kymmenen  kuusi\n",
      "marjaniemi: neljä pohjoiskoillinen kahdeksantoista pilvistä kaksikymmentä\n",
      "kemi ykkönen: neljä pohjoinen neljätoista  \n",
      "ajos: kolme pohjoinen yhdeksän melkein pilvistä hyvä näkyvyys\n"
     ]
    }
   ],
   "source": [
    "from tqdm.notebook import tqdm\n",
    "from time import sleep\n",
    "def rannikkoasema_pipeline(asema):\n",
    "    try:\n",
    "        load_page(driver, short2value[asema])\n",
    "        aikaleima_raw, data_raw = load_raw_data(driver)\n",
    "        if len(data_raw) == 0:\n",
    "            sleep(2)\n",
    "            aikaleima_raw, data_raw = load_raw_data(driver)\n",
    "        data_dict = create_data_dict(data_raw)\n",
    "        aikaleima_str = parse_aikaleima(aikaleima_raw)\n",
    "        asema_str = parse_data_dict(data_dict)\n",
    "    except Exception:\n",
    "        return \"\", \"ei havaintoja\"\n",
    "    return aikaleima_str, asema_str\n",
    "\n",
    "for i, asema in enumerate(tqdm(short2value.keys())):\n",
    "    aikaleima_str, asema_str = rannikkoasema_pipeline(asema)\n",
    "    if i == 0:\n",
    "        print(f\"Sää rannikkoasemilla tänään kello {aikaleima_str}\")\n",
    "    print(f\"{asema}: {asema_str}.\")\n",
    "    sleep(1)"
   ]
  },
  {
   "cell_type": "code",
   "execution_count": 153,
   "metadata": {},
   "outputs": [],
   "source": [
    "kaikki_asemat =\"\"\"\n",
    "Sää rannikkoasemilla tänään kello seitsemäntoista viisikymmentä\n",
    "haapasaari: viisi luode yhdeksäntoista pilvistä kymmenen\n",
    "kotka rankki: ei havaintoja\n",
    "orrengrund: kuusi luode seitsemäntoista melkein pilvistä hyvä näkyvyys\n",
    "emäsalo: kuusi luode kuusitoista  \n",
    "kalbådagrund: kahdeksan luode kaksikymmentäkaksi  \n",
    "itätoukki: kahdeksan luode kuusitoista  \n",
    "harmaja: seitsemän luode seitsemäntoista melkein pilvistä \n",
    "mäkiluoto: seitsemän luode kaksikymmentäkaksi  \n",
    "bågaskär: seitsemän pohjoisluode yksitoista melkein pilvistä hyvä näkyvyys\n",
    "jussarö: kahdeksan luode yksitoista melkein selkeää hyvä näkyvyys\n",
    "hanko tulliniemi: seitsemän luode kaksikymmentä  \n",
    "russarö: kahdeksan luode kaksikymmentä  \n",
    "vänö: kahdeksan pohjoisluode seitsemäntoista  \n",
    "utö: kahdeksan luode seitsemäntoista puolipilvistä kolmekymmentä\n",
    "bogskär: kahdeksan pohjoisluode kaksikymmentäneljä  \n",
    "rajakari: kuusi luode kahdeksantoista  \n",
    "fagerholm: kahdeksan luode seitsemäntoista  \n",
    "kumlinge: kuusi pohjoisluode seitsemäntoista melkein pilvistä kahdeksantoista\n",
    "nyhamn: seitsemän pohjoisluode yhdeksäntoista puolipilvistä kuusitoista\n",
    "märket: kahdeksan luode kaksikymmentä  \n",
    "isokari: seitsemän luode kaksikymmentäyksi puolipilvistä kuusitoista\n",
    "kylmäpihlaja: kahdeksan pohjoisluode kaksikymmentäneljä puolipilvistä yksitoista\n",
    "tahkoluoto: kahdeksan pohjoisluode kaksikymmentä melkein pilvistä kahdeksan\n",
    "sälgrund: kuusi pohjoisluode neljätoista melkein pilvistä hyvä näkyvyys\n",
    "bredskäret: kuusi pohjoisluode kaksitoista  \n",
    "strömmingsbådan: kuusi pohjoisluode kuusitoista  \n",
    "valassaaret: viisi pohjoisluode viisitoista  \n",
    "kallan: kuusi pohjoisluode yhdeksäntoista  \n",
    "tankar: kuusi pohjoinen kahdeksantoista melkein pilvistä kolmetoista\n",
    "ulkokalla: kuusi pohjoisluode kuusitoista  \n",
    "nahkiainen: neljä pohjoinen seitsemäntoista  \n",
    "raahe: neljä pohjoinen seitsemäntoista  kahdeksan\n",
    "oulu vihreäsaari: kaksi pohjoinen kymmenen  kuusi\n",
    "marjaniemi: neljä pohjoiskoillinen kahdeksantoista pilvistä kaksikymmentä\n",
    "kemi ykkönen: neljä pohjoinen neljätoista  \n",
    "ajos: kolme pohjoinen yhdeksän melkein pilvistä hyvä näkyvyys\n",
    "\"\"\""
   ]
  },
  {
   "cell_type": "code",
   "execution_count": 154,
   "metadata": {},
   "outputs": [
    {
     "name": "stdout",
     "output_type": "stream",
     "text": [
      " > tts_models/fin/fairseq/vits is already downloaded.\n",
      " > Setting up Audio Processor...\n",
      " | > sample_rate:22050\n",
      " | > resample:False\n",
      " | > num_mels:80\n",
      " | > log_func:np.log10\n",
      " | > min_level_db:0\n",
      " | > frame_shift_ms:None\n",
      " | > frame_length_ms:None\n",
      " | > ref_level_db:None\n",
      " | > fft_size:1024\n",
      " | > power:None\n",
      " | > preemphasis:0.0\n",
      " | > griffin_lim_iters:None\n",
      " | > signal_norm:None\n",
      " | > symmetric_norm:None\n",
      " | > mel_fmin:0\n",
      " | > mel_fmax:None\n",
      " | > pitch_fmin:None\n",
      " | > pitch_fmax:None\n",
      " | > spec_gain:20.0\n",
      " | > stft_pad_mode:reflect\n",
      " | > max_norm:1.0\n",
      " | > clip_norm:True\n",
      " | > do_trim_silence:False\n",
      " | > trim_db:60\n",
      " | > do_sound_norm:False\n",
      " | > do_amp_to_db_linear:True\n",
      " | > do_amp_to_db_mel:True\n",
      " | > do_rms_norm:False\n",
      " | > db_level:None\n",
      " | > stats_path:None\n",
      " | > base:10\n",
      " | > hop_length:256\n",
      " | > win_length:1024\n"
     ]
    },
    {
     "name": "stderr",
     "output_type": "stream",
     "text": [
      "C:\\Users\\mikko\\AppData\\Roaming\\Python\\Python39\\site-packages\\torch\\nn\\utils\\weight_norm.py:30: UserWarning: torch.nn.utils.weight_norm is deprecated in favor of torch.nn.utils.parametrizations.weight_norm.\n",
      "  warnings.warn(\"torch.nn.utils.weight_norm is deprecated in favor of torch.nn.utils.parametrizations.weight_norm.\")\n"
     ]
    },
    {
     "name": "stdout",
     "output_type": "stream",
     "text": [
      " > Text splitted to sentences.\n",
      "['Sää rannikkoasemilla tänään kello seitsemäntoista viisikymmentä', 'haapasaari: viisi luode yhdeksäntoista pilvistä kymmenen', 'kotka rankki: ei havaintoja', 'orrengrund: kuusi luode seitsemäntoista melkein pilvistä hyvä näkyvyys', 'emäsalo: kuusi luode kuusitoista  kalbådagrund: kahdeksan luode kaksikymmentäkaksi  itätoukki: kahdeksan luode kuusitoista  harmaja: seitsemän luode seitsemäntoista melkein pilvistä mäkiluoto: seitsemän luode kaksikymmentäkaksi  bågaskär: seitsemän pohjoisluode yksitoista melkein pilvistä hyvä näkyvyys', 'jussarö: kahdeksan luode yksitoista melkein selkeää hyvä näkyvyys', 'hanko tulliniemi: seitsemän luode kaksikymmentä  russarö: kahdeksan luode kaksikymmentä  vänö: kahdeksan pohjoisluode seitsemäntoista  utö: kahdeksan luode seitsemäntoista puolipilvistä kolmekymmentä', 'bogskär: kahdeksan pohjoisluode kaksikymmentäneljä  rajakari: kuusi luode kahdeksantoista  fagerholm: kahdeksan luode seitsemäntoista  kumlinge: kuusi pohjoisluode seitsemäntoista melkein pilvistä kahdeksantoista', 'nyhamn: seitsemän pohjoisluode yhdeksäntoista puolipilvistä kuusitoista', 'märket: kahdeksan luode kaksikymmentä  isokari: seitsemän luode kaksikymmentäyksi puolipilvistä kuusitoista', 'kylmäpihlaja: kahdeksan pohjoisluode kaksikymmentäneljä puolipilvistä yksitoista', 'tahkoluoto: kahdeksan pohjoisluode kaksikymmentä melkein pilvistä kahdeksan', 'sälgrund: kuusi pohjoisluode neljätoista melkein pilvistä hyvä näkyvyys', 'bredskäret: kuusi pohjoisluode kaksitoista  strömmingsbådan: kuusi pohjoisluode kuusitoista  valassaaret: viisi pohjoisluode viisitoista  kallan: kuusi pohjoisluode yhdeksäntoista  tankar: kuusi pohjoinen kahdeksantoista melkein pilvistä kolmetoista', 'ulkokalla: kuusi pohjoisluode kuusitoista  nahkiainen: neljä pohjoinen seitsemäntoista  raahe: neljä pohjoinen seitsemäntoista  kahdeksan', 'oulu vihreäsaari: kaksi pohjoinen kymmenen  kuusi', 'marjaniemi: neljä pohjoiskoillinen kahdeksantoista pilvistä kaksikymmentä', 'kemi ykkönen: neljä pohjoinen neljätoista  ajos: kolme pohjoinen yhdeksän melkein pilvistä hyvä näkyvyys']\n",
      "haapasaari: viisi luode yhdeksäntoista pilvistä kymmenen\n",
      " [!] Character ':' not found in the vocabulary. Discarding it.\n",
      "emäsalo: kuusi luode kuusitoista kalbådagrund: kahdeksan luode kaksikymmentäkaksi itätoukki: kahdeksan luode kuusitoista harmaja: seitsemän luode seitsemäntoista melkein pilvistä mäkiluoto: seitsemän luode kaksikymmentäkaksi bågaskär: seitsemän pohjoisluode yksitoista melkein pilvistä hyvä näkyvyys\n",
      " [!] Character 'å' not found in the vocabulary. Discarding it.\n",
      " > Processing time: 58.28263521194458\n",
      " > Real-time factor: 0.3258160978295445\n"
     ]
    },
    {
     "data": {
      "text/plain": [
       "'asemat.wav'"
      ]
     },
     "execution_count": 154,
     "metadata": {},
     "output_type": "execute_result"
    }
   ],
   "source": [
    "from TTS.api import TTS\n",
    "\n",
    "tts = TTS(\"tts_models/fin/fairseq/vits\")\n",
    "tts.tts_to_file(text= kaikki_asemat,\n",
    "                file_path=\"asemat.wav\")"
   ]
  },
  {
   "cell_type": "code",
   "execution_count": 29,
   "metadata": {},
   "outputs": [],
   "source": []
  },
  {
   "cell_type": "code",
   "execution_count": 165,
   "metadata": {},
   "outputs": [],
   "source": [
    "def saatiedotus_cleaner(s):\n",
    "    saatiedotus_header = s.split(\"\\n\")[0]\n",
    "    aika = numero_tekstiksi(int(saatiedotus_header.split(\" \")[-1]))\n",
    "    s = s.replace(saatiedotus_header, f\"Säätiedotus merenkulkijoille tänään kello {aika}\")\n",
    "\n",
    "\n",
    "    # Korjaa pilkulliset numerot. 2,5 -> \"kaksi pilkku viisi\"\n",
    "    pilkku_numerot = re.findall(r\"\\b\\d+,\\d+\\b\", s)\n",
    "    for p in pilkku_numerot:\n",
    "        s = s.replace(p, p.replace(\",\", \" pilkku \"))\n",
    "\n",
    "    # Korjaa ranget. 8-12 -> \"8 viiva 12\"\n",
    "    viiva_numerot = re.findall(r\"\\b\\d+-\\d+\\b\", s)\n",
    "    for v in viiva_numerot:\n",
    "        s = s.replace(v, v.replace(\"-\", \" viiva \"))\n",
    "    \n",
    "    s = s.replace(\" klo \", \" kello \")\n",
    "    s = s.replace(\"m/s\", \"metriä sekunnissa\")\n",
    "\n",
    "    # korjaa numerot\n",
    "    def replace_number(match):\n",
    "        number = int(match.group(0))\n",
    "        return numero_tekstiksi(number)\n",
    "\n",
    "    s = re.sub(r\"\\d+\", lambda x: replace_number(x), s)\n",
    "    return s\n",
    "\n",
    "def get_saatiedotus(driver):\n",
    "    saatiedotus_url = \"https://www.ilmatieteenlaitos.fi/saatiedotus-merenkulkijoille\"\n",
    "    driver.get(saatiedotus_url)\n",
    "\n",
    "    soup = BeautifulSoup(driver.page_source)\n",
    "    saatiedotus_string = soup.select(\"div[id^=proxyId_6mddLTaDJSXFZjHemVsl61]\")[0].text\n",
    "    \n",
    "    return saatiedotus_cleaner(saatiedotus_string)"
   ]
  },
  {
   "cell_type": "code",
   "execution_count": 167,
   "metadata": {},
   "outputs": [
    {
     "name": "stdout",
     "output_type": "stream",
     "text": [
      "Säätiedotus merenkulkijoille tänään kello viisitoista\n",
      "Myrskyvaroitus:\n",
      "Suomenlahti, Pohjois-Itämeri, Ahvenanmeri, Saaristomeri ja Selkämeren eteläosa\n",
      " Pohjoisen ja luoteen välistä myrskyä kaksikymmentäkolme metriä sekunnissa.\n",
      "\n",
      "Kovan tuulen varoitus:\n",
      "Selkämeren pohjoisosa\n",
      " Pohjoisen ja luoteen välistä tuulta yhdeksäntoista metriä sekunnissa.\n",
      "\n",
      "Merenkurkku ja Perämeren eteläosa\n",
      " Pohjoistuulta yhdeksäntoista metriä sekunnissa.\n",
      "\n",
      "Perämeren pohjoisosa\n",
      " Pohjoistuulta seitsemäntoista metriä sekunnissa.\n",
      "\n",
      "Huomautus veneilijöille:\n",
      "Saimaa\n",
      " Pohjoisenpuoleista tuulta kaksitoista metriä sekunnissa.\n",
      "\n",
      "Aallokkovaroitus\n",
      "\n",
      "\n",
      "Suomenlahdella, Pohjois-Itämerellä, Ahvenanmerellä ja Selkämerellä esiintyy kovaa aallokkoa, jossa merkitsevä aallonkorkeus ylittää neljä metriä.\n",
      "\n",
      "Merenkurkussa ja Perämerellä esiintyy kohtalaista aallokkoa, jossa merkitsevä aallonkorkeus ylittää kaksi pilkku viisi metriä.\n",
      "\n",
      "Maan kaakkoisosan yllä oleva myrskymatalapaine liikkuu itään.\n",
      "\n",
      "Odotettavissa huomiseen iltapäivään asti:\n",
      "Suomenlahti\n",
      " Pohjoisen ja luoteen välistä myrskyä yhdeksäntoista viiva kaksikymmentäkolme metriä sekunnissa, itäosassa vasta illalla. Iltayöllä tuuli heikkenee hieman, yöstä alkaen viisitoista viiva yhdeksäntoista metriä sekunnissa. Vesisadetta ja mahdollisesti ukkosta, kohtalainen näkyvyys.\n",
      "\n",
      "Pohjois-Itämeri, Ahvenanmeri, Saaristomeri ja Selkämeren eteläosa\n",
      " Pohjoisen ja luoteen välistä myrskyä kahdeksantoista viiva kaksikymmentäkolme metriä sekunnissa, yöstä alkaen seitsemäntoista viiva kaksikymmentäyksi metriä sekunnissa. Vesikuuroja, enimmäkseen hyvä näkyvyys.\n",
      "\n",
      "Selkämeren pohjoisosa\n",
      " Pohjoisen ja luoteen välistä tuulta viisitoista viiva yhdeksäntoista metriä sekunnissa. Vesikuuroja, enimmäkseen hyvä näkyvyys.\n",
      "\n",
      "Merenkurkku ja Perämeri\n",
      " Pohjoistuulta viisitoista viiva yhdeksäntoista metriä sekunnissa, Perämeren pohjoisosassa kolmetoista viiva seitsemäntoista metriä sekunnissa. Yöstä alkaen yksitoista viiva viisitoista metriä sekunnissa. Vesi- tai räntäsadetta, enimmäkseen hyvä näkyvyys.\n",
      "\n",
      "Saimaa\n",
      " Pohjoisenpuoleista tuulta kahdeksan viiva kaksitoista metriä sekunnissa. Vesi- tai räntäsadetta, kohtalainen näkyvyys.\n",
      "\n",
      "\n",
      "\n"
     ]
    }
   ],
   "source": [
    "saatiedotus_str = get_saatiedotus(driver)\n",
    "print(saatiedotus_str)"
   ]
  },
  {
   "cell_type": "code",
   "execution_count": 168,
   "metadata": {},
   "outputs": [],
   "source": [
    "with open(\"saatiedotus_merenkulkijoille.txt\", \"w\") as f:\n",
    "    f.writelines(saatiedotus_str)"
   ]
  },
  {
   "cell_type": "code",
   "execution_count": 91,
   "metadata": {},
   "outputs": [
    {
     "name": "stdout",
     "output_type": "stream",
     "text": [
      " > Text splitted to sentences.\n",
      "['Säätiedotus merenkulkijoille tänään kello viisitoista', 'Myrskyvaroitus:', 'Suomenlahti, Pohjois-Itämeri, Ahvenanmeri, Saaristomeri ja Selkämeren eteläosa', 'Pohjoisen ja luoteen välistä myrskyä kaksikymmentäkolme metriä sekunnissa.', 'Kovan tuulen varoitus:', 'Selkämeren pohjoisosa', 'Pohjoisen ja luoteen välistä tuulta yhdeksäntoista metriä sekunnissa.', 'Merenkurkku ja Perämeren eteläosa', 'Pohjoistuulta yhdeksäntoista metriä sekunnissa.', 'Perämeren pohjoisosa', 'Pohjoistuulta seitsemäntoista metriä sekunnissa.', 'Huomautus veneilijöille:', 'Saimaa', 'Pohjoisenpuoleista tuulta kaksitoista metriä sekunnissa.', 'Aallokkovaroitus', 'Suomenlahdella, Pohjois-Itämerellä, Ahvenanmerellä ja Selkämerellä esiintyy kovaa aallokkoa, jossa merkitsevä aallonkorkeus ylittää neljä metriä.', 'Merenkurkussa ja Perämerellä esiintyy kohtalaista aallokkoa, jossa merkitsevä aallonkorkeus ylittää kaksi pilkku viisi metriä.', 'Maan kaakkoisosan yllä oleva myrskymatalapaine liikkuu itään.', 'Odotettavissa huomiseen iltapäivään asti:', 'Suomenlahti', 'Pohjoisen ja luoteen välistä myrskyä yhdeksäntoista viiva kaksikymmentäkolme metriä sekunnissa, itäosassa vasta illalla.', 'Iltayöllä tuuli heikkenee hieman, yöstä alkaen viisitoista viiva yhdeksäntoista metriä sekunnissa.', 'Vesisadetta ja mahdollisesti ukkosta, kohtalainen näkyvyys.', 'Pohjois-Itämeri, Ahvenanmeri, Saaristomeri ja Selkämeren eteläosa', 'Pohjoisen ja luoteen välistä myrskyä kahdeksantoista viiva kaksikymmentäkolme metriä sekunnissa, yöstä alkaen seitsemäntoista viiva kaksikymmentäyksi metriä sekunnissa.', 'Vesikuuroja, enimmäkseen hyvä näkyvyys.', 'Selkämeren pohjoisosa', 'Pohjoisen ja luoteen välistä tuulta viisitoista viiva yhdeksäntoista metriä sekunnissa.', 'Vesikuuroja, enimmäkseen hyvä näkyvyys.', 'Merenkurkku ja Perämeri', 'Pohjoistuulta viisitoista viiva yhdeksäntoista metriä sekunnissa, Perämeren pohjoisosassa kolmetoista viiva seitsemäntoista metriä sekunnissa.', 'Yöstä alkaen yksitoista viiva viisitoista metriä sekunnissa.', 'Vesi- tai räntäsadetta, enimmäkseen hyvä näkyvyys.', 'Saimaa', 'Pohjoisenpuoleista tuulta kahdeksan viiva kaksitoista metriä sekunnissa.', 'Vesi- tai räntäsadetta, kohtalainen näkyvyys.']\n",
      " > Processing time: 69.63174533843994\n",
      " > Real-time factor: 0.3134475455031778\n"
     ]
    },
    {
     "data": {
      "text/plain": [
       "'saatiedotus.wav'"
      ]
     },
     "execution_count": 91,
     "metadata": {},
     "output_type": "execute_result"
    }
   ],
   "source": [
    "tts.tts_to_file(text=saatiedotus_cleaned,\n",
    "                file_path=\"saatiedotus.wav\")"
   ]
  },
  {
   "cell_type": "code",
   "execution_count": null,
   "metadata": {},
   "outputs": [],
   "source": []
  }
 ],
 "metadata": {
  "kernelspec": {
   "display_name": "ds",
   "language": "python",
   "name": "python3"
  },
  "language_info": {
   "codemirror_mode": {
    "name": "ipython",
    "version": 3
   },
   "file_extension": ".py",
   "mimetype": "text/x-python",
   "name": "python",
   "nbconvert_exporter": "python",
   "pygments_lexer": "ipython3",
   "version": "3.9.18"
  },
  "orig_nbformat": 4
 },
 "nbformat": 4,
 "nbformat_minor": 2
}
